{
 "cells": [
  {
   "cell_type": "code",
   "execution_count": null,
   "metadata": {},
   "outputs": [],
   "source": [
    "mysql \n",
    "数据库分类\n",
    "能够知道Mysql的使用场景\n",
    "能够安装Navicat和使用\n",
    "能够安装Mysql和CRUD操作使用\n",
    "能够使用python交互Mysql数据库\n",
    "最后完成一个案例"
   ]
  },
  {
   "cell_type": "code",
   "execution_count": null,
   "metadata": {},
   "outputs": [],
   "source": [
    "数据库的发展历程：\n",
    "1.人工管理阶段\n",
    "2.文件系统阶段\n",
    "3.数据库阶段\n",
    "4.高级数据库阶段 (分布式数据库)"
   ]
  },
  {
   "cell_type": "code",
   "execution_count": null,
   "metadata": {},
   "outputs": [],
   "source": [
    "数据库分成两类：\n",
    "关系型数据库：采用了关系模型来组织数据的数据库；关系模型指的就是二维表格模型\n",
    "Oracle Microsoft SQL MySQL SQlite\n",
    "\n",
    "非关系型数据库： Not Only SQL 强调Key-value的方式存储数据\n",
    "Mongodb redis"
   ]
  },
  {
   "cell_type": "code",
   "execution_count": null,
   "metadata": {},
   "outputs": [],
   "source": [
    "MySQL作为关系型数据库的使用场景\n",
    "1.Web网站系统\n",
    "2.日志记录系统\n",
    "3.数据仓库系统\n",
    "4.嵌入式系统"
   ]
  },
  {
   "cell_type": "code",
   "execution_count": null,
   "metadata": {},
   "outputs": [],
   "source": [
    "MySQL是一个关系型数据库管理系统(RDBMS)软件\n",
    "Relational Database Management System\n",
    "在Web应用方面，MySQL是最好的RDBMS\n",
    "!!!\n",
    "RDBMS可以分为两个端：\n",
    "1.关系型数据库服务端软件-Server\n",
    "2.关系型数据库客户端软件-Client"
   ]
  },
  {
   "cell_type": "code",
   "execution_count": null,
   "metadata": {},
   "outputs": [],
   "source": [
    "所有的数据是存在数据库服务端的，数据库客户端和数据库服务端之间的交互语句是SQL\n",
    "客户端和服务端的交互就是通过SQL实现的\n",
    "SQL(Structured Query Language)是结构化查询语言，是一种用来操作RDBMS的数据库语言\n",
    "也就是说通过SQL可以操作这些oracle，sql server，mysql等关系型的数据库\n",
    "注意SQL语句是通用的，在SQL语句中还分为了5大类：\n",
    "1.DQL 数据查询语言 select如\n",
    "2.DML 数据操作语言 insert,update,delete\n",
    "3.DDL 数据定义语言 create,drop\n",
    "# 前三种用的比较多\n",
    "4.TPL 事务处理语言 begin transaction,commit,rollback\n",
    "5.DCL 数据控制语言 grant,revoke"
   ]
  },
  {
   "cell_type": "code",
   "execution_count": null,
   "metadata": {},
   "outputs": [],
   "source": [
    "MySQL的特点\n",
    "1.MySQL是开源的\n",
    "2.MySQL支持大型数据库\n",
    "3.MySQL使用标准的SQL数据语言形式\n",
    "4.MySQL可以安装在不同的操作系统\n",
    "5.可以使用不同的语言进行编写"
   ]
  },
  {
   "cell_type": "code",
   "execution_count": null,
   "metadata": {},
   "outputs": [],
   "source": [
    "MySQL的常用数据类型\n",
    "int,bit(只有0-1 bit) 整数\n",
    "decimal 小数\n",
    "varchar(可变字符串),char(字符串) 字符串\n",
    "date,time,datetime 日期时间\n",
    "enum 枚举类型"
   ]
  },
  {
   "cell_type": "code",
   "execution_count": null,
   "metadata": {},
   "outputs": [],
   "source": [
    "MySQL常用字段约束\n",
    "#所有数据库的表内都要有主键\n",
    "primary key 主键约束 \n",
    "not null 非空约束 #指这个是必须填的意思\n",
    "unique 唯一约束 #不可重复\n",
    "default 默认约束"
   ]
  },
  {
   "cell_type": "code",
   "execution_count": null,
   "metadata": {},
   "outputs": [],
   "source": [
    "sudo service mysql start不报错即安装成功"
   ]
  },
  {
   "cell_type": "code",
   "execution_count": null,
   "metadata": {},
   "outputs": [],
   "source": [
    "服务端的指令\n",
    "sudo service mysql status查看状态\n",
    "sudo service mysql stop关闭\n",
    "sudo service mysql start开启\n",
    "sudo service mysql restart重启"
   ]
  },
  {
   "cell_type": "code",
   "execution_count": null,
   "metadata": {},
   "outputs": [],
   "source": [
    "Mysql配置文件的路径，将来如果要修改mysql的配置项需要修改配置文件\n",
    "cd /etc/mysql/mysql.conf.d/\n",
    "ls\n",
    "vim mysqld.cnf 查看配置文件\n",
    "配置项介绍\n",
    "1.port表示端口号，默认为3306\n",
    "2.bind-address表示服务器绑定的ip，默认为127.0.0.1\n",
    "3.datadir表示数据库保存的路径，默认为/var/lib/mysql\n",
    "4.log_error表示错误日志，默认为/var/log/mysql/error.log"
   ]
  },
  {
   "cell_type": "code",
   "execution_count": null,
   "metadata": {},
   "outputs": [],
   "source": [
    "接下来学习Navicat\n",
    "图形化界面的数据库管理工具"
   ]
  },
  {
   "cell_type": "code",
   "execution_count": null,
   "metadata": {},
   "outputs": [],
   "source": [
    "navicat基本使用\n",
    "作为客户端的软件，需要连接服务端\n",
    "作为客户端软件，服务端必须开启"
   ]
  },
  {
   "cell_type": "code",
   "execution_count": null,
   "metadata": {},
   "outputs": [],
   "source": [
    "Navicat CRUD(增删改查)"
   ]
  },
  {
   "cell_type": "code",
   "execution_count": null,
   "metadata": {},
   "outputs": [],
   "source": [
    "MySQL登入客户端操作\n",
    "在这之前需要先确认服务器是否开启了\n",
    "连接mysql服务端指令：mysql -uroot -p\n",
    "进入之后可以通过select now; 查看时间\n",
    "exit/quit/ctrl + D 退出"
   ]
  },
  {
   "cell_type": "code",
   "execution_count": null,
   "metadata": {},
   "outputs": [],
   "source": [
    "MySQL数据库操作\n",
    "-- 这是注释的意思\n",
    "1.查看所有的数据库\n",
    "show databases;\n",
    "2.创建数据库\n",
    "create database 数据库名 charset=utf8;\n",
    "3.使用数据库\n",
    "use 数据库名;\n",
    "4.查看当前使用的数据库(用来double check现在是不是在使用想要的数据库)\n",
    "select database();\n",
    "5.删除数据库\n",
    "drop database 数据库名;"
   ]
  },
  {
   "cell_type": "code",
   "execution_count": null,
   "metadata": {},
   "outputs": [],
   "source": [
    "MySQL表制作\n",
    "1.查看所有当前库中的表\n",
    "show tables;\n",
    "2.创建表\n",
    "create table 表名(字段名称 数据类型 可选的约束条件);\n",
    "如id我需要字段名称 数据类型 可选约束 无符号 主键 不为空 自增\n",
    "create table info(\n",
    "id int unsigned primary key not null auto_increment,\n",
    "name char(10) not null,\n",
    "age int\n",
    ");\n",
    "3.修改表字段类型\n",
    "alter table 表名 modify 列名 类型 约束;\n",
    "alter table info modify name varchar(200) not null;\n",
    "4.删除表\n",
    "drop table 表名;\n",
    "5.查看表结构\n",
    "desc 表名;"
   ]
  },
  {
   "cell_type": "code",
   "execution_count": null,
   "metadata": {},
   "outputs": [],
   "source": [
    "Mysql-CRUD操作\n",
    "1.查询数据\n",
    "    1.查询所有列\n",
    "    select*from 表名;\n",
    "    Example：select*from students;\n",
    "    2.查询指定列\n",
    "    select 列1，列2，... from 表名;\n",
    "    select id,name from students;\n",
    "2.增加数据\n",
    "    1.全列插入：值的顺序必须和字段顺序完全一致\n",
    "        insert into 表名 values(...)；\n",
    "    2.部分列插入：值的顺序和给出的列顺序对应\n",
    "        insert into 表名(列1...) values(值1...)；\n",
    "        对于可以有缺省的我可以不输入，只输入我想要的部分就行\n",
    "        比如\n",
    "        insert into Name values('Rachel');\n",
    "        \n",
    "    3.全列多行插入\n",
    "        insert into 表名 values(...),(...),(...)；\n",
    "        !注意，对于能自增的数可以使用一个0来占位置\n",
    "        例子：\n",
    "        insert into info values(0,'Viveck',40,'male'),(0,'ChengHan',22,'male');\n",
    "    4.部分列多行插入\n",
    "        insert into 表名(列1...) values(值1...)，（值1...），（值1...）；"
   ]
  }
 ],
 "metadata": {
  "kernelspec": {
   "display_name": "Python 3",
   "language": "python",
   "name": "python3"
  },
  "language_info": {
   "codemirror_mode": {
    "name": "ipython",
    "version": 3
   },
   "file_extension": ".py",
   "mimetype": "text/x-python",
   "name": "python",
   "nbconvert_exporter": "python",
   "pygments_lexer": "ipython3",
   "version": "3.7.4"
  }
 },
 "nbformat": 4,
 "nbformat_minor": 2
}
